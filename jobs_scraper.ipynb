{
 "cells": [
  {
   "cell_type": "code",
   "execution_count": 1,
   "metadata": {},
   "outputs": [],
   "source": [
    "# importing necessary libraries\n",
    "import requests\n",
    "from bs4 import BeautifulSoup\n",
    "import pandas as pd"
   ]
  },
  {
   "cell_type": "code",
   "execution_count": 7,
   "metadata": {},
   "outputs": [],
   "source": [
    "# creating empty container for storing jobs information\n",
    "joblist = []"
   ]
  },
  {
   "cell_type": "code",
   "execution_count": 8,
   "metadata": {},
   "outputs": [],
   "source": [
    "# creating the html parser\n",
    "def extract(page):\n",
    "    headers = {'User-Agent': 'Mozilla/5.0 (Windows NT 10.0; Win64; x64) AppleWebKit/537.36 (KHTML, like Gecko) Chrome/125.0.0.0 Safari/537.36'}\n",
    "    url = f'https://malaysia.indeed.com/jobs?q=python+developer&l=malaysia&start={page}'\n",
    "    r = requests.get(url, headers=headers)\n",
    "    soup = BeautifulSoup(r.content, 'html.parser')\n",
    "    return soup"
   ]
  },
  {
   "cell_type": "code",
   "execution_count": 9,
   "metadata": {},
   "outputs": [],
   "source": [
    "# transforming raw HTML content into structured format\n",
    "def transform(soup):\n",
    "    divs = soup.find_all('div', class_='job_seen_beacon')\n",
    "    for item in divs:\n",
    "        # Extract title\n",
    "        title = item.find('h2').text.strip()\n",
    "        \n",
    "        # Extract company name\n",
    "        company = item.find('span', class_='css-92r8pb eu4oa1w0').text.strip()\n",
    "\n",
    "        # Extract salary\n",
    "        salary = None\n",
    "        salary_container = item.find('div', class_='jobMetaDataGroup css-pj786l eu4oa1w0')\n",
    "        if salary_container:\n",
    "            salary_divs = salary_container.find_all('div', class_='css-1cvvo1b eu4oa1w0')\n",
    "            for div in salary_divs:\n",
    "                # print(f\"Found metadata div: {div.text}\")\n",
    "                if 'RM' in div.text:\n",
    "                    salary = div.text\n",
    "                    break\n",
    "            \n",
    "        # Extract summary\n",
    "        summary = item.find('div', class_='css-9446fg eu4oa1w0').text.strip().replace('\\n', ' ')\n",
    "        \n",
    "        job = {\n",
    "            'title': title,\n",
    "            'company': company,\n",
    "            'salary': salary,\n",
    "            'summary': summary\n",
    "        }\n",
    "        joblist.append(job)\n",
    "    \n",
    "    return joblist\n"
   ]
  },
  {
   "cell_type": "code",
   "execution_count": 10,
   "metadata": {},
   "outputs": [
    {
     "name": "stdout",
     "output_type": "stream",
     "text": [
      "Getting page, 0\n",
      "Getting page, 10\n",
      "Getting page, 20\n",
      "Getting page, 30\n"
     ]
    }
   ],
   "source": [
    "# iterating through pages\n",
    "for i in range(0,40,10):\n",
    "    print(f'Getting page, {i}')\n",
    "    c = extract(i)\n",
    "    transform(c)"
   ]
  },
  {
   "cell_type": "code",
   "execution_count": 11,
   "metadata": {},
   "outputs": [
    {
     "name": "stdout",
     "output_type": "stream",
     "text": [
      "                                               title  \\\n",
      "0              Full Stack Developer (Chat platforms)   \n",
      "1  Full Stack Developer (ReactJS/NodeJS/C#/Python...   \n",
      "2                           AI Developer - Full Time   \n",
      "3                                Fullstack Developer   \n",
      "4  Web Programmer (Web Developer) #PHP and Larave...   \n",
      "5                               Python Web Developer   \n",
      "6                                 Software Developer   \n",
      "7                          Junior Software Developer   \n",
      "8                                 Software Developer   \n",
      "9                            Python Developer Intern   \n",
      "\n",
      "                                   company                        salary  \\\n",
      "0                               JP Caliber             RM 10,000 a month   \n",
      "1         LYJ Events & Marketing sdn. bhd.                          None   \n",
      "2                       IMAGINE AI SDN BHD   RM 3,200 - RM 4,000 a month   \n",
      "3                              RinggitPlus                          None   \n",
      "4                               JOBBUILDER   RM 2,800 - RM 7,000 a month   \n",
      "5  Agensi Pekerjaan Nixan Mega (M) Sdn Bhd   RM 7,000 - RM 8,000 a month   \n",
      "6                     EPS Ventures Sdn Bhd   RM 4,000 - RM 8,000 a month   \n",
      "7              Verity Intelligence Sdn Bhd   RM 2,000 - RM 3,000 a month   \n",
      "8                               Talentbank  RM 6,800 - RM 10,200 a month   \n",
      "9                                 ShopBack                          None   \n",
      "\n",
      "                                             summary  \n",
      "0  As a Full Stack Developer for our Chat Platfor...  \n",
      "1  Collaborate with Data scientist, UIUX team and...  \n",
      "2  Design, build and develop new AI, Vision and/o...  \n",
      "3  RinggitPlus is looking for a Full Stack Develo...  \n",
      "4  Develop new applications / utilities / interfa...  \n",
      "5  Develop and scale Gigabit API which interactin...  \n",
      "6  A software developer is a professional respons...  \n",
      "7  Work collaboratively with cross-functional tea...  \n",
      "8  Collaborate with cross-functional teams to gat...  \n",
      "9  1 - Review and analyze existing Python code to...  \n"
     ]
    }
   ],
   "source": [
    "df = pd.DataFrame(joblist)\n",
    "print(df.head(10))"
   ]
  },
  {
   "cell_type": "code",
   "execution_count": 7,
   "metadata": {},
   "outputs": [],
   "source": [
    "# saving the scrapped data into csv\n",
    "df.to_csv('jobs.csv')"
   ]
  },
  {
   "cell_type": "code",
   "execution_count": null,
   "metadata": {},
   "outputs": [],
   "source": []
  }
 ],
 "metadata": {
  "kernelspec": {
   "display_name": "Python 3",
   "language": "python",
   "name": "python3"
  },
  "language_info": {
   "codemirror_mode": {
    "name": "ipython",
    "version": 3
   },
   "file_extension": ".py",
   "mimetype": "text/x-python",
   "name": "python",
   "nbconvert_exporter": "python",
   "pygments_lexer": "ipython3",
   "version": "3.10.0"
  }
 },
 "nbformat": 4,
 "nbformat_minor": 2
}
